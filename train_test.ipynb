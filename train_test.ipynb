{
 "cells": [
  {
   "cell_type": "code",
   "execution_count": 7,
   "id": "7895d309",
   "metadata": {},
   "outputs": [
    {
     "name": "stdout",
     "output_type": "stream",
     "text": [
      "Collecting sklearn\n",
      "  Downloading sklearn-0.0.tar.gz (1.1 kB)\n",
      "Collecting scikit-learn\n",
      "  Downloading scikit_learn-0.24.2-cp38-cp38-macosx_10_13_x86_64.whl (7.2 MB)\n",
      "\u001b[K     |████████████████████████████████| 7.2 MB 4.4 MB/s eta 0:00:01\n",
      "\u001b[?25hRequirement already satisfied: joblib>=0.11 in /Users/kshitijahande/opt/anaconda3/envs/pytorch/lib/python3.8/site-packages (from scikit-learn->sklearn) (1.0.1)\n",
      "Collecting threadpoolctl>=2.0.0\n",
      "  Downloading threadpoolctl-2.1.0-py3-none-any.whl (12 kB)\n",
      "Requirement already satisfied: numpy>=1.13.3 in /Users/kshitijahande/opt/anaconda3/envs/pytorch/lib/python3.8/site-packages (from scikit-learn->sklearn) (1.19.5)\n",
      "Requirement already satisfied: scipy>=0.19.1 in /Users/kshitijahande/opt/anaconda3/envs/pytorch/lib/python3.8/site-packages (from scikit-learn->sklearn) (1.7.0)\n",
      "Building wheels for collected packages: sklearn\n",
      "  Building wheel for sklearn (setup.py) ... \u001b[?25ldone\n",
      "\u001b[?25h  Created wheel for sklearn: filename=sklearn-0.0-py2.py3-none-any.whl size=1316 sha256=1c1f73c3a93febbf1ff281ba7209dd44f42e9c70ecddfa78b7358fd3ea02ba94\n",
      "  Stored in directory: /Users/kshitijahande/Library/Caches/pip/wheels/22/0b/40/fd3f795caaa1fb4c6cb738bc1f56100be1e57da95849bfc897\n",
      "Successfully built sklearn\n",
      "Installing collected packages: threadpoolctl, scikit-learn, sklearn\n",
      "Successfully installed scikit-learn-0.24.2 sklearn-0.0 threadpoolctl-2.1.0\n"
     ]
    }
   ],
   "source": [
    "# ! /Users/kshitijahande/opt/anaconda3/envs/pytorch/bin/python -m pip install sklearn"
   ]
  },
  {
   "cell_type": "code",
   "execution_count": 31,
   "id": "2d1f830c",
   "metadata": {},
   "outputs": [
    {
     "name": "stdout",
     "output_type": "stream",
     "text": [
      "CrossEntropyLoss()\n"
     ]
    }
   ],
   "source": [
    "# ******************************************************************\n",
    "# \n",
    "# Contains train and test modules with multitask loss function\n",
    "# \n",
    "# Use \"get_result_on_evaldata\" to generate predictions on the \n",
    "# evaluation data for challenge leaderboard\n",
    "# \n",
    "# ******************************************************************\n",
    "\n",
    "import torch\n",
    "import torch.nn.functional as F\n",
    "import sys\n",
    "from icecream import ic \n",
    "\n",
    "\n",
    "# from utils import *\n",
    "from ipynb.fs.full.utils import *\n",
    "\n",
    "from sklearn.metrics import roc_auc_score, mean_squared_error, f1_score, accuracy_score\n",
    " \n",
    "# mse_criterion = torch.nn.MSELoss()\n",
    "ce_criterion  = torch.nn.CrossEntropyLoss()\n",
    "print(ce_criterion)\n",
    "\n",
    "def concat_output(output, device):\n",
    "    temp = torch.tensor([]).to(device)\n",
    "\n",
    "    if output.shape[1] == 2:\n",
    "        temp = torch.argmax(output[:, 0:2], dim=1).view(-1,1)\n",
    "        return temp\n",
    "\n",
    "    temp = torch.argmax(output[:, 0:2], dim=1).view(-1,1)\n",
    "    temp = torch.cat((temp, torch.argmax(output[:, 2:4], dim= 1).view(-1,1)), dim= 1)\n",
    "    temp = torch.cat((temp, output[:, 4].view(-1,1)), dim= 1)\n",
    "    temp = torch.cat((temp, output[:, 5].view(-1,1)), dim= 1)\n",
    "    return temp\n",
    "\n",
    "def loss_func(output, target, device):\n",
    "\n",
    "    humor_id = (target[:, 0]==1)\n",
    "    target   = target.float()\n",
    "    print(output[:, 0:2])\n",
    "    loss1 = ce_criterion(output[:, 0:2], target[:, 0].long())\t                \t# is_humor binary classification\n",
    "#     loss2 = ce_criterion(output[humor_id][:, 2:4], target[humor_id][:, 1].long())\t# humor_controversy binary classification\n",
    "#     loss3 = mse_criterion(output[humor_id][:, 4], target[humor_id][:, 2])\t\t\t# humor rating regression loss\n",
    "#     loss4 = mse_criterion(output[:, 5], target[:, 3])\t\t\t\t\t\t\t\t# offensive rating regression loss\n",
    "#     loss  = loss1+loss2+loss3+loss4\n",
    "    loss=loss1\n",
    "    # this block of generating temp is verified throughly\n",
    "    temp = concat_output(output, device)\n",
    "    temp = temp.detach()\n",
    "\n",
    "    return loss, temp\n",
    "\n",
    "def train(model, dataloader, optimizer, device):\n",
    "#     ic('1')\n",
    "    model.train()\n",
    "#     ic('2')\n",
    "    train_loss = AverageMeter()\n",
    "\n",
    "    for batch_id, batch_data in enumerate(dataloader):\n",
    "        data       = batch_data[0]\n",
    "        target     = batch_data[1].to(device)\n",
    "\n",
    "        input_id   = data[0].to(device).squeeze()\n",
    "        mask_id    = data[1].to(device).squeeze()\n",
    "        segment_id = data[2].to(device).squeeze()\n",
    "\n",
    "        output = model(input_id, mask_id, segment_id)\n",
    "        print(output, target, device)\n",
    "        loss, _ = loss_func(output, target, device= device)\n",
    "        print('outside loc_func')\n",
    "        optimizer.zero_grad()\n",
    "        loss.backward()\n",
    "        optimizer.step()\n",
    "        train_loss.update(loss.item(), target.shape[0])\n",
    "\n",
    "    return train_loss.avg\n"
   ]
  }
 ],
 "metadata": {
  "kernelspec": {
   "display_name": "pytorch",
   "language": "python",
   "name": "pytorch"
  },
  "language_info": {
   "codemirror_mode": {
    "name": "ipython",
    "version": 3
   },
   "file_extension": ".py",
   "mimetype": "text/x-python",
   "name": "python",
   "nbconvert_exporter": "python",
   "pygments_lexer": "ipython3",
   "version": "3.8.8"
  }
 },
 "nbformat": 4,
 "nbformat_minor": 5
}
