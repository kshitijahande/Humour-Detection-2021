{
  "nbformat": 4,
  "nbformat_minor": 5,
  "metadata": {
    "accelerator": "GPU",
    "colab": {
      "name": "main_colab.ipynb",
      "provenance": [],
      "collapsed_sections": []
    },
    "kernelspec": {
      "display_name": "pytorch",
      "language": "python",
      "name": "pytorch"
    },
    "language_info": {
      "codemirror_mode": {
        "name": "ipython",
        "version": 3
      },
      "file_extension": ".py",
      "mimetype": "text/x-python",
      "name": "python",
      "nbconvert_exporter": "python",
      "pygments_lexer": "ipython3",
      "version": "3.8.8"
    },
    "widgets": {
      "application/vnd.jupyter.widget-state+json": {
        "1f1a2e4588074417aeda0ffec588f2b2": {
          "model_module": "@jupyter-widgets/controls",
          "model_name": "HBoxModel",
          "state": {
            "_view_name": "HBoxView",
            "_dom_classes": [],
            "_model_name": "HBoxModel",
            "_view_module": "@jupyter-widgets/controls",
            "_model_module_version": "1.5.0",
            "_view_count": null,
            "_view_module_version": "1.5.0",
            "box_style": "",
            "layout": "IPY_MODEL_0c75a7727aad4d269db11a7f421dd5bf",
            "_model_module": "@jupyter-widgets/controls",
            "children": [
              "IPY_MODEL_79a901bbcf9344f5bd5d1b15394e121e",
              "IPY_MODEL_bce0921587c04946b62604688a36c0ab"
            ]
          }
        },
        "0c75a7727aad4d269db11a7f421dd5bf": {
          "model_module": "@jupyter-widgets/base",
          "model_name": "LayoutModel",
          "state": {
            "_view_name": "LayoutView",
            "grid_template_rows": null,
            "right": null,
            "justify_content": null,
            "_view_module": "@jupyter-widgets/base",
            "overflow": null,
            "_model_module_version": "1.2.0",
            "_view_count": null,
            "flex_flow": null,
            "width": null,
            "min_width": null,
            "border": null,
            "align_items": null,
            "bottom": null,
            "_model_module": "@jupyter-widgets/base",
            "top": null,
            "grid_column": null,
            "overflow_y": null,
            "overflow_x": null,
            "grid_auto_flow": null,
            "grid_area": null,
            "grid_template_columns": null,
            "flex": null,
            "_model_name": "LayoutModel",
            "justify_items": null,
            "grid_row": null,
            "max_height": null,
            "align_content": null,
            "visibility": null,
            "align_self": null,
            "height": null,
            "min_height": null,
            "padding": null,
            "grid_auto_rows": null,
            "grid_gap": null,
            "max_width": null,
            "order": null,
            "_view_module_version": "1.2.0",
            "grid_template_areas": null,
            "object_position": null,
            "object_fit": null,
            "grid_auto_columns": null,
            "margin": null,
            "display": null,
            "left": null
          }
        },
        "79a901bbcf9344f5bd5d1b15394e121e": {
          "model_module": "@jupyter-widgets/controls",
          "model_name": "FloatProgressModel",
          "state": {
            "_view_name": "ProgressView",
            "style": "IPY_MODEL_eb664520dd1846238b2c3b0f5592a814",
            "_dom_classes": [],
            "description": "Downloading: 100%",
            "_model_name": "FloatProgressModel",
            "bar_style": "success",
            "max": 231508,
            "_view_module": "@jupyter-widgets/controls",
            "_model_module_version": "1.5.0",
            "value": 231508,
            "_view_count": null,
            "_view_module_version": "1.5.0",
            "orientation": "horizontal",
            "min": 0,
            "description_tooltip": null,
            "_model_module": "@jupyter-widgets/controls",
            "layout": "IPY_MODEL_efb2992687594a7f81f1de3d837ba83a"
          }
        },
        "bce0921587c04946b62604688a36c0ab": {
          "model_module": "@jupyter-widgets/controls",
          "model_name": "HTMLModel",
          "state": {
            "_view_name": "HTMLView",
            "style": "IPY_MODEL_3cc00c67a8d74a708433c64a69210071",
            "_dom_classes": [],
            "description": "",
            "_model_name": "HTMLModel",
            "placeholder": "​",
            "_view_module": "@jupyter-widgets/controls",
            "_model_module_version": "1.5.0",
            "value": " 232k/232k [00:00&lt;00:00, 721kB/s]",
            "_view_count": null,
            "_view_module_version": "1.5.0",
            "description_tooltip": null,
            "_model_module": "@jupyter-widgets/controls",
            "layout": "IPY_MODEL_b1cda4ec8199473596f90a4cbf1ea946"
          }
        },
        "eb664520dd1846238b2c3b0f5592a814": {
          "model_module": "@jupyter-widgets/controls",
          "model_name": "ProgressStyleModel",
          "state": {
            "_view_name": "StyleView",
            "_model_name": "ProgressStyleModel",
            "description_width": "initial",
            "_view_module": "@jupyter-widgets/base",
            "_model_module_version": "1.5.0",
            "_view_count": null,
            "_view_module_version": "1.2.0",
            "bar_color": null,
            "_model_module": "@jupyter-widgets/controls"
          }
        },
        "efb2992687594a7f81f1de3d837ba83a": {
          "model_module": "@jupyter-widgets/base",
          "model_name": "LayoutModel",
          "state": {
            "_view_name": "LayoutView",
            "grid_template_rows": null,
            "right": null,
            "justify_content": null,
            "_view_module": "@jupyter-widgets/base",
            "overflow": null,
            "_model_module_version": "1.2.0",
            "_view_count": null,
            "flex_flow": null,
            "width": null,
            "min_width": null,
            "border": null,
            "align_items": null,
            "bottom": null,
            "_model_module": "@jupyter-widgets/base",
            "top": null,
            "grid_column": null,
            "overflow_y": null,
            "overflow_x": null,
            "grid_auto_flow": null,
            "grid_area": null,
            "grid_template_columns": null,
            "flex": null,
            "_model_name": "LayoutModel",
            "justify_items": null,
            "grid_row": null,
            "max_height": null,
            "align_content": null,
            "visibility": null,
            "align_self": null,
            "height": null,
            "min_height": null,
            "padding": null,
            "grid_auto_rows": null,
            "grid_gap": null,
            "max_width": null,
            "order": null,
            "_view_module_version": "1.2.0",
            "grid_template_areas": null,
            "object_position": null,
            "object_fit": null,
            "grid_auto_columns": null,
            "margin": null,
            "display": null,
            "left": null
          }
        },
        "3cc00c67a8d74a708433c64a69210071": {
          "model_module": "@jupyter-widgets/controls",
          "model_name": "DescriptionStyleModel",
          "state": {
            "_view_name": "StyleView",
            "_model_name": "DescriptionStyleModel",
            "description_width": "",
            "_view_module": "@jupyter-widgets/base",
            "_model_module_version": "1.5.0",
            "_view_count": null,
            "_view_module_version": "1.2.0",
            "_model_module": "@jupyter-widgets/controls"
          }
        },
        "b1cda4ec8199473596f90a4cbf1ea946": {
          "model_module": "@jupyter-widgets/base",
          "model_name": "LayoutModel",
          "state": {
            "_view_name": "LayoutView",
            "grid_template_rows": null,
            "right": null,
            "justify_content": null,
            "_view_module": "@jupyter-widgets/base",
            "overflow": null,
            "_model_module_version": "1.2.0",
            "_view_count": null,
            "flex_flow": null,
            "width": null,
            "min_width": null,
            "border": null,
            "align_items": null,
            "bottom": null,
            "_model_module": "@jupyter-widgets/base",
            "top": null,
            "grid_column": null,
            "overflow_y": null,
            "overflow_x": null,
            "grid_auto_flow": null,
            "grid_area": null,
            "grid_template_columns": null,
            "flex": null,
            "_model_name": "LayoutModel",
            "justify_items": null,
            "grid_row": null,
            "max_height": null,
            "align_content": null,
            "visibility": null,
            "align_self": null,
            "height": null,
            "min_height": null,
            "padding": null,
            "grid_auto_rows": null,
            "grid_gap": null,
            "max_width": null,
            "order": null,
            "_view_module_version": "1.2.0",
            "grid_template_areas": null,
            "object_position": null,
            "object_fit": null,
            "grid_auto_columns": null,
            "margin": null,
            "display": null,
            "left": null
          }
        },
        "c6bf1ac0473d4038a8bbe4fa66ceb970": {
          "model_module": "@jupyter-widgets/controls",
          "model_name": "HBoxModel",
          "state": {
            "_view_name": "HBoxView",
            "_dom_classes": [],
            "_model_name": "HBoxModel",
            "_view_module": "@jupyter-widgets/controls",
            "_model_module_version": "1.5.0",
            "_view_count": null,
            "_view_module_version": "1.5.0",
            "box_style": "",
            "layout": "IPY_MODEL_d696ffa87ff0414c833d122e07ea6bc7",
            "_model_module": "@jupyter-widgets/controls",
            "children": [
              "IPY_MODEL_c596e98ff1b040f0a8e028956156682c",
              "IPY_MODEL_c79d318ded7c437a9f2947fd62278060"
            ]
          }
        },
        "d696ffa87ff0414c833d122e07ea6bc7": {
          "model_module": "@jupyter-widgets/base",
          "model_name": "LayoutModel",
          "state": {
            "_view_name": "LayoutView",
            "grid_template_rows": null,
            "right": null,
            "justify_content": null,
            "_view_module": "@jupyter-widgets/base",
            "overflow": null,
            "_model_module_version": "1.2.0",
            "_view_count": null,
            "flex_flow": null,
            "width": null,
            "min_width": null,
            "border": null,
            "align_items": null,
            "bottom": null,
            "_model_module": "@jupyter-widgets/base",
            "top": null,
            "grid_column": null,
            "overflow_y": null,
            "overflow_x": null,
            "grid_auto_flow": null,
            "grid_area": null,
            "grid_template_columns": null,
            "flex": null,
            "_model_name": "LayoutModel",
            "justify_items": null,
            "grid_row": null,
            "max_height": null,
            "align_content": null,
            "visibility": null,
            "align_self": null,
            "height": null,
            "min_height": null,
            "padding": null,
            "grid_auto_rows": null,
            "grid_gap": null,
            "max_width": null,
            "order": null,
            "_view_module_version": "1.2.0",
            "grid_template_areas": null,
            "object_position": null,
            "object_fit": null,
            "grid_auto_columns": null,
            "margin": null,
            "display": null,
            "left": null
          }
        },
        "c596e98ff1b040f0a8e028956156682c": {
          "model_module": "@jupyter-widgets/controls",
          "model_name": "FloatProgressModel",
          "state": {
            "_view_name": "ProgressView",
            "style": "IPY_MODEL_31188e283a504f9eb09619c1f8f6e84e",
            "_dom_classes": [],
            "description": "Downloading: 100%",
            "_model_name": "FloatProgressModel",
            "bar_style": "success",
            "max": 28,
            "_view_module": "@jupyter-widgets/controls",
            "_model_module_version": "1.5.0",
            "value": 28,
            "_view_count": null,
            "_view_module_version": "1.5.0",
            "orientation": "horizontal",
            "min": 0,
            "description_tooltip": null,
            "_model_module": "@jupyter-widgets/controls",
            "layout": "IPY_MODEL_e952369d221b462f843533b79920e695"
          }
        },
        "c79d318ded7c437a9f2947fd62278060": {
          "model_module": "@jupyter-widgets/controls",
          "model_name": "HTMLModel",
          "state": {
            "_view_name": "HTMLView",
            "style": "IPY_MODEL_fee9d25d662943518f5e5de4570bb140",
            "_dom_classes": [],
            "description": "",
            "_model_name": "HTMLModel",
            "placeholder": "​",
            "_view_module": "@jupyter-widgets/controls",
            "_model_module_version": "1.5.0",
            "value": " 28.0/28.0 [00:00&lt;00:00, 165B/s]",
            "_view_count": null,
            "_view_module_version": "1.5.0",
            "description_tooltip": null,
            "_model_module": "@jupyter-widgets/controls",
            "layout": "IPY_MODEL_79a4160eeca1494287b73bc2a1ea17a8"
          }
        },
        "31188e283a504f9eb09619c1f8f6e84e": {
          "model_module": "@jupyter-widgets/controls",
          "model_name": "ProgressStyleModel",
          "state": {
            "_view_name": "StyleView",
            "_model_name": "ProgressStyleModel",
            "description_width": "initial",
            "_view_module": "@jupyter-widgets/base",
            "_model_module_version": "1.5.0",
            "_view_count": null,
            "_view_module_version": "1.2.0",
            "bar_color": null,
            "_model_module": "@jupyter-widgets/controls"
          }
        },
        "e952369d221b462f843533b79920e695": {
          "model_module": "@jupyter-widgets/base",
          "model_name": "LayoutModel",
          "state": {
            "_view_name": "LayoutView",
            "grid_template_rows": null,
            "right": null,
            "justify_content": null,
            "_view_module": "@jupyter-widgets/base",
            "overflow": null,
            "_model_module_version": "1.2.0",
            "_view_count": null,
            "flex_flow": null,
            "width": null,
            "min_width": null,
            "border": null,
            "align_items": null,
            "bottom": null,
            "_model_module": "@jupyter-widgets/base",
            "top": null,
            "grid_column": null,
            "overflow_y": null,
            "overflow_x": null,
            "grid_auto_flow": null,
            "grid_area": null,
            "grid_template_columns": null,
            "flex": null,
            "_model_name": "LayoutModel",
            "justify_items": null,
            "grid_row": null,
            "max_height": null,
            "align_content": null,
            "visibility": null,
            "align_self": null,
            "height": null,
            "min_height": null,
            "padding": null,
            "grid_auto_rows": null,
            "grid_gap": null,
            "max_width": null,
            "order": null,
            "_view_module_version": "1.2.0",
            "grid_template_areas": null,
            "object_position": null,
            "object_fit": null,
            "grid_auto_columns": null,
            "margin": null,
            "display": null,
            "left": null
          }
        },
        "fee9d25d662943518f5e5de4570bb140": {
          "model_module": "@jupyter-widgets/controls",
          "model_name": "DescriptionStyleModel",
          "state": {
            "_view_name": "StyleView",
            "_model_name": "DescriptionStyleModel",
            "description_width": "",
            "_view_module": "@jupyter-widgets/base",
            "_model_module_version": "1.5.0",
            "_view_count": null,
            "_view_module_version": "1.2.0",
            "_model_module": "@jupyter-widgets/controls"
          }
        },
        "79a4160eeca1494287b73bc2a1ea17a8": {
          "model_module": "@jupyter-widgets/base",
          "model_name": "LayoutModel",
          "state": {
            "_view_name": "LayoutView",
            "grid_template_rows": null,
            "right": null,
            "justify_content": null,
            "_view_module": "@jupyter-widgets/base",
            "overflow": null,
            "_model_module_version": "1.2.0",
            "_view_count": null,
            "flex_flow": null,
            "width": null,
            "min_width": null,
            "border": null,
            "align_items": null,
            "bottom": null,
            "_model_module": "@jupyter-widgets/base",
            "top": null,
            "grid_column": null,
            "overflow_y": null,
            "overflow_x": null,
            "grid_auto_flow": null,
            "grid_area": null,
            "grid_template_columns": null,
            "flex": null,
            "_model_name": "LayoutModel",
            "justify_items": null,
            "grid_row": null,
            "max_height": null,
            "align_content": null,
            "visibility": null,
            "align_self": null,
            "height": null,
            "min_height": null,
            "padding": null,
            "grid_auto_rows": null,
            "grid_gap": null,
            "max_width": null,
            "order": null,
            "_view_module_version": "1.2.0",
            "grid_template_areas": null,
            "object_position": null,
            "object_fit": null,
            "grid_auto_columns": null,
            "margin": null,
            "display": null,
            "left": null
          }
        },
        "8a592bcdb5724b139eb3e2f5f42f5580": {
          "model_module": "@jupyter-widgets/controls",
          "model_name": "HBoxModel",
          "state": {
            "_view_name": "HBoxView",
            "_dom_classes": [],
            "_model_name": "HBoxModel",
            "_view_module": "@jupyter-widgets/controls",
            "_model_module_version": "1.5.0",
            "_view_count": null,
            "_view_module_version": "1.5.0",
            "box_style": "",
            "layout": "IPY_MODEL_293e723fc8a345c8b877d6d9151b3a6e",
            "_model_module": "@jupyter-widgets/controls",
            "children": [
              "IPY_MODEL_a1542caaf2184d26bc57292617f26182",
              "IPY_MODEL_b8ba6c22a6834eefa3e046989d9b4481"
            ]
          }
        },
        "293e723fc8a345c8b877d6d9151b3a6e": {
          "model_module": "@jupyter-widgets/base",
          "model_name": "LayoutModel",
          "state": {
            "_view_name": "LayoutView",
            "grid_template_rows": null,
            "right": null,
            "justify_content": null,
            "_view_module": "@jupyter-widgets/base",
            "overflow": null,
            "_model_module_version": "1.2.0",
            "_view_count": null,
            "flex_flow": null,
            "width": null,
            "min_width": null,
            "border": null,
            "align_items": null,
            "bottom": null,
            "_model_module": "@jupyter-widgets/base",
            "top": null,
            "grid_column": null,
            "overflow_y": null,
            "overflow_x": null,
            "grid_auto_flow": null,
            "grid_area": null,
            "grid_template_columns": null,
            "flex": null,
            "_model_name": "LayoutModel",
            "justify_items": null,
            "grid_row": null,
            "max_height": null,
            "align_content": null,
            "visibility": null,
            "align_self": null,
            "height": null,
            "min_height": null,
            "padding": null,
            "grid_auto_rows": null,
            "grid_gap": null,
            "max_width": null,
            "order": null,
            "_view_module_version": "1.2.0",
            "grid_template_areas": null,
            "object_position": null,
            "object_fit": null,
            "grid_auto_columns": null,
            "margin": null,
            "display": null,
            "left": null
          }
        },
        "a1542caaf2184d26bc57292617f26182": {
          "model_module": "@jupyter-widgets/controls",
          "model_name": "FloatProgressModel",
          "state": {
            "_view_name": "ProgressView",
            "style": "IPY_MODEL_246bc8b01b8a4da58b3d9d7f202edce5",
            "_dom_classes": [],
            "description": "Downloading: 100%",
            "_model_name": "FloatProgressModel",
            "bar_style": "success",
            "max": 466062,
            "_view_module": "@jupyter-widgets/controls",
            "_model_module_version": "1.5.0",
            "value": 466062,
            "_view_count": null,
            "_view_module_version": "1.5.0",
            "orientation": "horizontal",
            "min": 0,
            "description_tooltip": null,
            "_model_module": "@jupyter-widgets/controls",
            "layout": "IPY_MODEL_e3ca9b8c1f26433294b9e205bea73753"
          }
        },
        "b8ba6c22a6834eefa3e046989d9b4481": {
          "model_module": "@jupyter-widgets/controls",
          "model_name": "HTMLModel",
          "state": {
            "_view_name": "HTMLView",
            "style": "IPY_MODEL_8b179d81fce64beca1847387d80322ea",
            "_dom_classes": [],
            "description": "",
            "_model_name": "HTMLModel",
            "placeholder": "​",
            "_view_module": "@jupyter-widgets/controls",
            "_model_module_version": "1.5.0",
            "value": " 466k/466k [00:00&lt;00:00, 5.97MB/s]",
            "_view_count": null,
            "_view_module_version": "1.5.0",
            "description_tooltip": null,
            "_model_module": "@jupyter-widgets/controls",
            "layout": "IPY_MODEL_800daa1106494ab09b12884d60558bd4"
          }
        },
        "246bc8b01b8a4da58b3d9d7f202edce5": {
          "model_module": "@jupyter-widgets/controls",
          "model_name": "ProgressStyleModel",
          "state": {
            "_view_name": "StyleView",
            "_model_name": "ProgressStyleModel",
            "description_width": "initial",
            "_view_module": "@jupyter-widgets/base",
            "_model_module_version": "1.5.0",
            "_view_count": null,
            "_view_module_version": "1.2.0",
            "bar_color": null,
            "_model_module": "@jupyter-widgets/controls"
          }
        },
        "e3ca9b8c1f26433294b9e205bea73753": {
          "model_module": "@jupyter-widgets/base",
          "model_name": "LayoutModel",
          "state": {
            "_view_name": "LayoutView",
            "grid_template_rows": null,
            "right": null,
            "justify_content": null,
            "_view_module": "@jupyter-widgets/base",
            "overflow": null,
            "_model_module_version": "1.2.0",
            "_view_count": null,
            "flex_flow": null,
            "width": null,
            "min_width": null,
            "border": null,
            "align_items": null,
            "bottom": null,
            "_model_module": "@jupyter-widgets/base",
            "top": null,
            "grid_column": null,
            "overflow_y": null,
            "overflow_x": null,
            "grid_auto_flow": null,
            "grid_area": null,
            "grid_template_columns": null,
            "flex": null,
            "_model_name": "LayoutModel",
            "justify_items": null,
            "grid_row": null,
            "max_height": null,
            "align_content": null,
            "visibility": null,
            "align_self": null,
            "height": null,
            "min_height": null,
            "padding": null,
            "grid_auto_rows": null,
            "grid_gap": null,
            "max_width": null,
            "order": null,
            "_view_module_version": "1.2.0",
            "grid_template_areas": null,
            "object_position": null,
            "object_fit": null,
            "grid_auto_columns": null,
            "margin": null,
            "display": null,
            "left": null
          }
        },
        "8b179d81fce64beca1847387d80322ea": {
          "model_module": "@jupyter-widgets/controls",
          "model_name": "DescriptionStyleModel",
          "state": {
            "_view_name": "StyleView",
            "_model_name": "DescriptionStyleModel",
            "description_width": "",
            "_view_module": "@jupyter-widgets/base",
            "_model_module_version": "1.5.0",
            "_view_count": null,
            "_view_module_version": "1.2.0",
            "_model_module": "@jupyter-widgets/controls"
          }
        },
        "800daa1106494ab09b12884d60558bd4": {
          "model_module": "@jupyter-widgets/base",
          "model_name": "LayoutModel",
          "state": {
            "_view_name": "LayoutView",
            "grid_template_rows": null,
            "right": null,
            "justify_content": null,
            "_view_module": "@jupyter-widgets/base",
            "overflow": null,
            "_model_module_version": "1.2.0",
            "_view_count": null,
            "flex_flow": null,
            "width": null,
            "min_width": null,
            "border": null,
            "align_items": null,
            "bottom": null,
            "_model_module": "@jupyter-widgets/base",
            "top": null,
            "grid_column": null,
            "overflow_y": null,
            "overflow_x": null,
            "grid_auto_flow": null,
            "grid_area": null,
            "grid_template_columns": null,
            "flex": null,
            "_model_name": "LayoutModel",
            "justify_items": null,
            "grid_row": null,
            "max_height": null,
            "align_content": null,
            "visibility": null,
            "align_self": null,
            "height": null,
            "min_height": null,
            "padding": null,
            "grid_auto_rows": null,
            "grid_gap": null,
            "max_width": null,
            "order": null,
            "_view_module_version": "1.2.0",
            "grid_template_areas": null,
            "object_position": null,
            "object_fit": null,
            "grid_auto_columns": null,
            "margin": null,
            "display": null,
            "left": null
          }
        },
        "e5a54d3527f34954a44f585acd9172ae": {
          "model_module": "@jupyter-widgets/controls",
          "model_name": "HBoxModel",
          "state": {
            "_view_name": "HBoxView",
            "_dom_classes": [],
            "_model_name": "HBoxModel",
            "_view_module": "@jupyter-widgets/controls",
            "_model_module_version": "1.5.0",
            "_view_count": null,
            "_view_module_version": "1.5.0",
            "box_style": "",
            "layout": "IPY_MODEL_96182a6088bd4b91ab49d0a0ebd49905",
            "_model_module": "@jupyter-widgets/controls",
            "children": [
              "IPY_MODEL_137698ecfe054a4ab02a1cd3a55a491c",
              "IPY_MODEL_5427ffbc4e35402292d6eaf9c6f5a975"
            ]
          }
        },
        "96182a6088bd4b91ab49d0a0ebd49905": {
          "model_module": "@jupyter-widgets/base",
          "model_name": "LayoutModel",
          "state": {
            "_view_name": "LayoutView",
            "grid_template_rows": null,
            "right": null,
            "justify_content": null,
            "_view_module": "@jupyter-widgets/base",
            "overflow": null,
            "_model_module_version": "1.2.0",
            "_view_count": null,
            "flex_flow": null,
            "width": null,
            "min_width": null,
            "border": null,
            "align_items": null,
            "bottom": null,
            "_model_module": "@jupyter-widgets/base",
            "top": null,
            "grid_column": null,
            "overflow_y": null,
            "overflow_x": null,
            "grid_auto_flow": null,
            "grid_area": null,
            "grid_template_columns": null,
            "flex": null,
            "_model_name": "LayoutModel",
            "justify_items": null,
            "grid_row": null,
            "max_height": null,
            "align_content": null,
            "visibility": null,
            "align_self": null,
            "height": null,
            "min_height": null,
            "padding": null,
            "grid_auto_rows": null,
            "grid_gap": null,
            "max_width": null,
            "order": null,
            "_view_module_version": "1.2.0",
            "grid_template_areas": null,
            "object_position": null,
            "object_fit": null,
            "grid_auto_columns": null,
            "margin": null,
            "display": null,
            "left": null
          }
        },
        "137698ecfe054a4ab02a1cd3a55a491c": {
          "model_module": "@jupyter-widgets/controls",
          "model_name": "FloatProgressModel",
          "state": {
            "_view_name": "ProgressView",
            "style": "IPY_MODEL_676acf96cd1c4e1591ca44154c2b0bd3",
            "_dom_classes": [],
            "description": "Downloading: 100%",
            "_model_name": "FloatProgressModel",
            "bar_style": "success",
            "max": 570,
            "_view_module": "@jupyter-widgets/controls",
            "_model_module_version": "1.5.0",
            "value": 570,
            "_view_count": null,
            "_view_module_version": "1.5.0",
            "orientation": "horizontal",
            "min": 0,
            "description_tooltip": null,
            "_model_module": "@jupyter-widgets/controls",
            "layout": "IPY_MODEL_06605095957042e7a72415203754828c"
          }
        },
        "5427ffbc4e35402292d6eaf9c6f5a975": {
          "model_module": "@jupyter-widgets/controls",
          "model_name": "HTMLModel",
          "state": {
            "_view_name": "HTMLView",
            "style": "IPY_MODEL_214b705a112f448bbe11acca1aa712b6",
            "_dom_classes": [],
            "description": "",
            "_model_name": "HTMLModel",
            "placeholder": "​",
            "_view_module": "@jupyter-widgets/controls",
            "_model_module_version": "1.5.0",
            "value": " 570/570 [00:00&lt;00:00, 2.52kB/s]",
            "_view_count": null,
            "_view_module_version": "1.5.0",
            "description_tooltip": null,
            "_model_module": "@jupyter-widgets/controls",
            "layout": "IPY_MODEL_4e48a352dcff4cf281089ce6eed59b9c"
          }
        },
        "676acf96cd1c4e1591ca44154c2b0bd3": {
          "model_module": "@jupyter-widgets/controls",
          "model_name": "ProgressStyleModel",
          "state": {
            "_view_name": "StyleView",
            "_model_name": "ProgressStyleModel",
            "description_width": "initial",
            "_view_module": "@jupyter-widgets/base",
            "_model_module_version": "1.5.0",
            "_view_count": null,
            "_view_module_version": "1.2.0",
            "bar_color": null,
            "_model_module": "@jupyter-widgets/controls"
          }
        },
        "06605095957042e7a72415203754828c": {
          "model_module": "@jupyter-widgets/base",
          "model_name": "LayoutModel",
          "state": {
            "_view_name": "LayoutView",
            "grid_template_rows": null,
            "right": null,
            "justify_content": null,
            "_view_module": "@jupyter-widgets/base",
            "overflow": null,
            "_model_module_version": "1.2.0",
            "_view_count": null,
            "flex_flow": null,
            "width": null,
            "min_width": null,
            "border": null,
            "align_items": null,
            "bottom": null,
            "_model_module": "@jupyter-widgets/base",
            "top": null,
            "grid_column": null,
            "overflow_y": null,
            "overflow_x": null,
            "grid_auto_flow": null,
            "grid_area": null,
            "grid_template_columns": null,
            "flex": null,
            "_model_name": "LayoutModel",
            "justify_items": null,
            "grid_row": null,
            "max_height": null,
            "align_content": null,
            "visibility": null,
            "align_self": null,
            "height": null,
            "min_height": null,
            "padding": null,
            "grid_auto_rows": null,
            "grid_gap": null,
            "max_width": null,
            "order": null,
            "_view_module_version": "1.2.0",
            "grid_template_areas": null,
            "object_position": null,
            "object_fit": null,
            "grid_auto_columns": null,
            "margin": null,
            "display": null,
            "left": null
          }
        },
        "214b705a112f448bbe11acca1aa712b6": {
          "model_module": "@jupyter-widgets/controls",
          "model_name": "DescriptionStyleModel",
          "state": {
            "_view_name": "StyleView",
            "_model_name": "DescriptionStyleModel",
            "description_width": "",
            "_view_module": "@jupyter-widgets/base",
            "_model_module_version": "1.5.0",
            "_view_count": null,
            "_view_module_version": "1.2.0",
            "_model_module": "@jupyter-widgets/controls"
          }
        },
        "4e48a352dcff4cf281089ce6eed59b9c": {
          "model_module": "@jupyter-widgets/base",
          "model_name": "LayoutModel",
          "state": {
            "_view_name": "LayoutView",
            "grid_template_rows": null,
            "right": null,
            "justify_content": null,
            "_view_module": "@jupyter-widgets/base",
            "overflow": null,
            "_model_module_version": "1.2.0",
            "_view_count": null,
            "flex_flow": null,
            "width": null,
            "min_width": null,
            "border": null,
            "align_items": null,
            "bottom": null,
            "_model_module": "@jupyter-widgets/base",
            "top": null,
            "grid_column": null,
            "overflow_y": null,
            "overflow_x": null,
            "grid_auto_flow": null,
            "grid_area": null,
            "grid_template_columns": null,
            "flex": null,
            "_model_name": "LayoutModel",
            "justify_items": null,
            "grid_row": null,
            "max_height": null,
            "align_content": null,
            "visibility": null,
            "align_self": null,
            "height": null,
            "min_height": null,
            "padding": null,
            "grid_auto_rows": null,
            "grid_gap": null,
            "max_width": null,
            "order": null,
            "_view_module_version": "1.2.0",
            "grid_template_areas": null,
            "object_position": null,
            "object_fit": null,
            "grid_auto_columns": null,
            "margin": null,
            "display": null,
            "left": null
          }
        },
        "1e25ccb37cde4b41b6e365d623245a90": {
          "model_module": "@jupyter-widgets/controls",
          "model_name": "HBoxModel",
          "state": {
            "_view_name": "HBoxView",
            "_dom_classes": [],
            "_model_name": "HBoxModel",
            "_view_module": "@jupyter-widgets/controls",
            "_model_module_version": "1.5.0",
            "_view_count": null,
            "_view_module_version": "1.5.0",
            "box_style": "",
            "layout": "IPY_MODEL_f1a5afce68044639a497e7aeb476b6ff",
            "_model_module": "@jupyter-widgets/controls",
            "children": [
              "IPY_MODEL_5fe826df6ff34d96976a866aa4b6a437",
              "IPY_MODEL_7b77c4e26ac747d19250fbad905c3797"
            ]
          }
        },
        "f1a5afce68044639a497e7aeb476b6ff": {
          "model_module": "@jupyter-widgets/base",
          "model_name": "LayoutModel",
          "state": {
            "_view_name": "LayoutView",
            "grid_template_rows": null,
            "right": null,
            "justify_content": null,
            "_view_module": "@jupyter-widgets/base",
            "overflow": null,
            "_model_module_version": "1.2.0",
            "_view_count": null,
            "flex_flow": null,
            "width": null,
            "min_width": null,
            "border": null,
            "align_items": null,
            "bottom": null,
            "_model_module": "@jupyter-widgets/base",
            "top": null,
            "grid_column": null,
            "overflow_y": null,
            "overflow_x": null,
            "grid_auto_flow": null,
            "grid_area": null,
            "grid_template_columns": null,
            "flex": null,
            "_model_name": "LayoutModel",
            "justify_items": null,
            "grid_row": null,
            "max_height": null,
            "align_content": null,
            "visibility": null,
            "align_self": null,
            "height": null,
            "min_height": null,
            "padding": null,
            "grid_auto_rows": null,
            "grid_gap": null,
            "max_width": null,
            "order": null,
            "_view_module_version": "1.2.0",
            "grid_template_areas": null,
            "object_position": null,
            "object_fit": null,
            "grid_auto_columns": null,
            "margin": null,
            "display": null,
            "left": null
          }
        },
        "5fe826df6ff34d96976a866aa4b6a437": {
          "model_module": "@jupyter-widgets/controls",
          "model_name": "FloatProgressModel",
          "state": {
            "_view_name": "ProgressView",
            "style": "IPY_MODEL_a756816dd4e64db396ed4ebb87efbf1e",
            "_dom_classes": [],
            "description": "Downloading: 100%",
            "_model_name": "FloatProgressModel",
            "bar_style": "success",
            "max": 440473133,
            "_view_module": "@jupyter-widgets/controls",
            "_model_module_version": "1.5.0",
            "value": 440473133,
            "_view_count": null,
            "_view_module_version": "1.5.0",
            "orientation": "horizontal",
            "min": 0,
            "description_tooltip": null,
            "_model_module": "@jupyter-widgets/controls",
            "layout": "IPY_MODEL_b79b8aeb0ae94ee6961a496305561fb7"
          }
        },
        "7b77c4e26ac747d19250fbad905c3797": {
          "model_module": "@jupyter-widgets/controls",
          "model_name": "HTMLModel",
          "state": {
            "_view_name": "HTMLView",
            "style": "IPY_MODEL_095266adb0194b028e001c6ccee8758e",
            "_dom_classes": [],
            "description": "",
            "_model_name": "HTMLModel",
            "placeholder": "​",
            "_view_module": "@jupyter-widgets/controls",
            "_model_module_version": "1.5.0",
            "value": " 440M/440M [00:09&lt;00:00, 48.1MB/s]",
            "_view_count": null,
            "_view_module_version": "1.5.0",
            "description_tooltip": null,
            "_model_module": "@jupyter-widgets/controls",
            "layout": "IPY_MODEL_81162956e5a043d78fa6a3ad55545fbd"
          }
        },
        "a756816dd4e64db396ed4ebb87efbf1e": {
          "model_module": "@jupyter-widgets/controls",
          "model_name": "ProgressStyleModel",
          "state": {
            "_view_name": "StyleView",
            "_model_name": "ProgressStyleModel",
            "description_width": "initial",
            "_view_module": "@jupyter-widgets/base",
            "_model_module_version": "1.5.0",
            "_view_count": null,
            "_view_module_version": "1.2.0",
            "bar_color": null,
            "_model_module": "@jupyter-widgets/controls"
          }
        },
        "b79b8aeb0ae94ee6961a496305561fb7": {
          "model_module": "@jupyter-widgets/base",
          "model_name": "LayoutModel",
          "state": {
            "_view_name": "LayoutView",
            "grid_template_rows": null,
            "right": null,
            "justify_content": null,
            "_view_module": "@jupyter-widgets/base",
            "overflow": null,
            "_model_module_version": "1.2.0",
            "_view_count": null,
            "flex_flow": null,
            "width": null,
            "min_width": null,
            "border": null,
            "align_items": null,
            "bottom": null,
            "_model_module": "@jupyter-widgets/base",
            "top": null,
            "grid_column": null,
            "overflow_y": null,
            "overflow_x": null,
            "grid_auto_flow": null,
            "grid_area": null,
            "grid_template_columns": null,
            "flex": null,
            "_model_name": "LayoutModel",
            "justify_items": null,
            "grid_row": null,
            "max_height": null,
            "align_content": null,
            "visibility": null,
            "align_self": null,
            "height": null,
            "min_height": null,
            "padding": null,
            "grid_auto_rows": null,
            "grid_gap": null,
            "max_width": null,
            "order": null,
            "_view_module_version": "1.2.0",
            "grid_template_areas": null,
            "object_position": null,
            "object_fit": null,
            "grid_auto_columns": null,
            "margin": null,
            "display": null,
            "left": null
          }
        },
        "095266adb0194b028e001c6ccee8758e": {
          "model_module": "@jupyter-widgets/controls",
          "model_name": "DescriptionStyleModel",
          "state": {
            "_view_name": "StyleView",
            "_model_name": "DescriptionStyleModel",
            "description_width": "",
            "_view_module": "@jupyter-widgets/base",
            "_model_module_version": "1.5.0",
            "_view_count": null,
            "_view_module_version": "1.2.0",
            "_model_module": "@jupyter-widgets/controls"
          }
        },
        "81162956e5a043d78fa6a3ad55545fbd": {
          "model_module": "@jupyter-widgets/base",
          "model_name": "LayoutModel",
          "state": {
            "_view_name": "LayoutView",
            "grid_template_rows": null,
            "right": null,
            "justify_content": null,
            "_view_module": "@jupyter-widgets/base",
            "overflow": null,
            "_model_module_version": "1.2.0",
            "_view_count": null,
            "flex_flow": null,
            "width": null,
            "min_width": null,
            "border": null,
            "align_items": null,
            "bottom": null,
            "_model_module": "@jupyter-widgets/base",
            "top": null,
            "grid_column": null,
            "overflow_y": null,
            "overflow_x": null,
            "grid_auto_flow": null,
            "grid_area": null,
            "grid_template_columns": null,
            "flex": null,
            "_model_name": "LayoutModel",
            "justify_items": null,
            "grid_row": null,
            "max_height": null,
            "align_content": null,
            "visibility": null,
            "align_self": null,
            "height": null,
            "min_height": null,
            "padding": null,
            "grid_auto_rows": null,
            "grid_gap": null,
            "max_width": null,
            "order": null,
            "_view_module_version": "1.2.0",
            "grid_template_areas": null,
            "object_position": null,
            "object_fit": null,
            "grid_auto_columns": null,
            "margin": null,
            "display": null,
            "left": null
          }
        }
      }
    }
  },
  "cells": [
    {
      "cell_type": "code",
      "metadata": {
        "id": "bad6b990",
        "colab": {
          "base_uri": "https://localhost:8080/"
        },
        "outputId": "45c67533-193e-4378-b5ae-c4f26c132a05"
      },
      "source": [
        "import sys\n",
        "print(sys.executable)"
      ],
      "id": "bad6b990",
      "execution_count": null,
      "outputs": [
        {
          "output_type": "stream",
          "text": [
            "/usr/bin/python3\n"
          ],
          "name": "stdout"
        }
      ]
    },
    {
      "cell_type": "code",
      "metadata": {
        "id": "yi2YxDt0qmzK",
        "colab": {
          "base_uri": "https://localhost:8080/"
        },
        "outputId": "33a847f8-3886-4d3d-a989-6b47a549fd90"
      },
      "source": [
        "from google.colab import drive\n",
        "drive.mount('/content/drive')"
      ],
      "id": "yi2YxDt0qmzK",
      "execution_count": 4,
      "outputs": [
        {
          "output_type": "stream",
          "text": [
            "Mounted at /content/drive\n"
          ],
          "name": "stdout"
        }
      ]
    },
    {
      "cell_type": "code",
      "metadata": {
        "id": "c7aa4b99"
      },
      "source": [
        "# ! /Users/kshitijahande/opt/anaconda3/envs/pytorch/bin/python -m pip install pandas\n",
        "# ! /Users/kshitijahande/opt/anaconda3/envs/pytorch/bin/python -m pip install icecream\n",
        "# ! /Users/kshitijahande/opt/anaconda3/envs/pytorch/bin/python -m pip install nltk\n",
        "# ! /Users/kshitijahande/opt/anaconda3/envs/pytorch/bin/python -m pip install plotly\n",
        "# ! /Users/kshitijahande/opt/anaconda3/envs/pytorch/bin/python -m pip install pytorch_pretrained_bert pytorch-nlp\n",
        "# ! /Users/kshitijahande/opt/anaconda3/envs/pytorch/bin/python -m pip install keras\n",
        "# ! /Users/kshitijahande/opt/anaconda3/envs/pytorch/bin/python -m pip install tensorflow\n",
        "# ! /Users/kshitijahande/opt/anaconda3/envs/pytorch/bin/python -m pip install transformers\n",
        "# ! /Users/kshitijahande/opt/anaconda3/envs/pytorch/bin/python -m pip install ipynb"
      ],
      "id": "c7aa4b99",
      "execution_count": null,
      "outputs": []
    },
    {
      "cell_type": "code",
      "metadata": {
        "id": "tkrfx8tZq6Ig",
        "colab": {
          "base_uri": "https://localhost:8080/"
        },
        "outputId": "d303e5ae-09f2-43b3-8552-752ca8d10cb5"
      },
      "source": [
        "!pip install -qq ipynb\n",
        "!pip install -qq plotly\n",
        "!pip install -qq import-ipynb\n",
        "!pip install -qq icecream\n",
        "!pip install -qq transformers"
      ],
      "id": "tkrfx8tZq6Ig",
      "execution_count": 1,
      "outputs": [
        {
          "output_type": "stream",
          "text": [
            "  Building wheel for import-ipynb (setup.py) ... \u001b[?25l\u001b[?25hdone\n",
            "\u001b[K     |████████████████████████████████| 2.5MB 36.7MB/s \n",
            "\u001b[K     |████████████████████████████████| 3.3MB 41.2MB/s \n",
            "\u001b[K     |████████████████████████████████| 901kB 44.5MB/s \n",
            "\u001b[?25h"
          ],
          "name": "stdout"
        }
      ]
    },
    {
      "cell_type": "code",
      "metadata": {
        "id": "5f7700ca"
      },
      "source": [
        "import pandas as pd\n",
        "import numpy as np\n",
        "import random as rn\n",
        "from tqdm.notebook import tqdm\n",
        "from icecream import ic \n",
        "\n",
        "# imports from shudima\n",
        "import torch\n",
        "from transformers import BertTokenizer\n"
      ],
      "id": "5f7700ca",
      "execution_count": 3,
      "outputs": []
    },
    {
      "cell_type": "code",
      "metadata": {
        "id": "868a6956"
      },
      "source": [
        "# # preprocessing for BERT\n",
        "\n",
        "# tokenizer = BertTokenizer.from_pretrained('bert-base-uncased', do_lower_case=True)\n",
        "# tokenizer.tokenize('Hi my nambe is Dima')\n",
        "# train_tokens = list(map(lambda t: ['[CLS]'] + tokenizer.tokenize(t)[:510] + ['[SEP]'], train['text']))"
      ],
      "id": "868a6956",
      "execution_count": null,
      "outputs": []
    },
    {
      "cell_type": "code",
      "metadata": {
        "id": "1987c648"
      },
      "source": [
        "# from ipynb.fs.full.utils import *\n",
        "# from ipynb.fs.full.datasets import *\n",
        "# from ipynb.fs.full.architectures import *\n",
        "# from ipynb.fs.full.train_test import *"
      ],
      "id": "1987c648",
      "execution_count": null,
      "outputs": []
    },
    {
      "cell_type": "code",
      "metadata": {
        "colab": {
          "base_uri": "https://localhost:8080/"
        },
        "id": "KhPTB7squWp9",
        "outputId": "0fbfd36a-8e4b-4012-beae-f539f90af858"
      },
      "source": [
        "%load_ext autoreload\n",
        "%autoreload 2"
      ],
      "id": "KhPTB7squWp9",
      "execution_count": null,
      "outputs": [
        {
          "output_type": "stream",
          "text": [
            "The autoreload extension is already loaded. To reload it, use:\n",
            "  %reload_ext autoreload\n"
          ],
          "name": "stdout"
        }
      ]
    },
    {
      "cell_type": "code",
      "metadata": {
        "colab": {
          "base_uri": "https://localhost:8080/"
        },
        "id": "ilIYy3hKrJZ8",
        "outputId": "62a1dcf7-8059-411f-abff-8123016d8358"
      },
      "source": [
        "!pwd\n",
        "%cd /content/drive/MyDrive/Colab\\ Notebooks/Spring\\ 21/NLP/Humour-Detection-2021\n",
        "!ls\n",
        "import import_ipynb\n",
        "from utils import *\n",
        "from datasets import *\n",
        "from architectures import *\n",
        "from train_test import *\n",
        "import importlib"
      ],
      "id": "ilIYy3hKrJZ8",
      "execution_count": 5,
      "outputs": [
        {
          "output_type": "stream",
          "text": [
            "/content\n",
            "/content/drive/MyDrive/Colab Notebooks/Spring 21/NLP/Humour-Detection-2021\n",
            "architectures.ipynb  main-dump.ipynb\t    results_publictest_2.csv\n",
            "data\t\t     model_weights\t    results_publictest.csv\n",
            "data-analysis.ipynb  pandas-syntax-2.ipynb  train_test.ipynb\n",
            "datasets.ipynb\t     pandas-syntax.ipynb    utils.ipynb\n",
            "main_colab.ipynb     README.md\n",
            "importing Jupyter notebook from utils.ipynb\n",
            "importing Jupyter notebook from datasets.ipynb\n",
            "importing Jupyter notebook from architectures.ipynb\n",
            "importing Jupyter notebook from train_test.ipynb\n",
            "CrossEntropyLoss()\n"
          ],
          "name": "stdout"
        }
      ]
    },
    {
      "cell_type": "code",
      "metadata": {
        "id": "mmw7UxWg2f8h"
      },
      "source": [
        "#init \n",
        "train_count = 8000 #8000\n",
        "# test_count = \n",
        "  \n",
        "MAX_SENTENCE_LENGTH = 128 #colbert=20\n",
        "MAX_SENTENCES = 5\n",
        "MAX_LENGTH = 100"
      ],
      "id": "mmw7UxWg2f8h",
      "execution_count": 6,
      "outputs": []
    },
    {
      "cell_type": "code",
      "metadata": {
        "colab": {
          "base_uri": "https://localhost:8080/"
        },
        "id": "Z75pbqn5uauW",
        "outputId": "72513a1e-7ef5-4fb0-a19d-a4cb325f3a45"
      },
      "source": [
        "#===============================================================================\n",
        "# Device Selction (GPU/CPU) and Seed Initialization\n",
        "#===============================================================================\n",
        "# args parameters\n",
        "no_cuda=False\n",
        "seed =1\n",
        "test_model = False\n",
        "\n",
        "ic(torch.cuda.is_available())\n",
        "use_cuda = not no_cuda and torch.cuda.is_available()\n",
        "device   = torch.device(\"cuda\" if use_cuda else \"cpu\")\n",
        "kwargs   = {'num_workers': 32, 'pin_memory': True} if use_cuda else {}\n",
        "\n",
        "torch.manual_seed(seed)\n",
        "if(use_cuda):\n",
        "\ttorch.cuda.manual_seed(seed)\n",
        "\ttorch.backends.cudnn.benchmark = True\n",
        "np.random.seed(seed)\n",
        "\n",
        "print(\"\\nDevice: \" + str(device) +\"; Seed: \"+str(seed))\n"
      ],
      "id": "Z75pbqn5uauW",
      "execution_count": 7,
      "outputs": [
        {
          "output_type": "stream",
          "text": [
            "ic| torch.cuda.is_available(): True\n"
          ],
          "name": "stderr"
        },
        {
          "output_type": "stream",
          "text": [
            "\n",
            "Device: cuda; Seed: 1\n"
          ],
          "name": "stdout"
        }
      ]
    },
    {
      "cell_type": "code",
      "metadata": {
        "colab": {
          "base_uri": "https://localhost:8080/",
          "height": 1000,
          "referenced_widgets": [
            "1f1a2e4588074417aeda0ffec588f2b2",
            "0c75a7727aad4d269db11a7f421dd5bf",
            "79a901bbcf9344f5bd5d1b15394e121e",
            "bce0921587c04946b62604688a36c0ab",
            "eb664520dd1846238b2c3b0f5592a814",
            "efb2992687594a7f81f1de3d837ba83a",
            "3cc00c67a8d74a708433c64a69210071",
            "b1cda4ec8199473596f90a4cbf1ea946",
            "c6bf1ac0473d4038a8bbe4fa66ceb970",
            "d696ffa87ff0414c833d122e07ea6bc7",
            "c596e98ff1b040f0a8e028956156682c",
            "c79d318ded7c437a9f2947fd62278060",
            "31188e283a504f9eb09619c1f8f6e84e",
            "e952369d221b462f843533b79920e695",
            "fee9d25d662943518f5e5de4570bb140",
            "79a4160eeca1494287b73bc2a1ea17a8",
            "8a592bcdb5724b139eb3e2f5f42f5580",
            "293e723fc8a345c8b877d6d9151b3a6e",
            "a1542caaf2184d26bc57292617f26182",
            "b8ba6c22a6834eefa3e046989d9b4481",
            "246bc8b01b8a4da58b3d9d7f202edce5",
            "e3ca9b8c1f26433294b9e205bea73753",
            "8b179d81fce64beca1847387d80322ea",
            "800daa1106494ab09b12884d60558bd4",
            "e5a54d3527f34954a44f585acd9172ae",
            "96182a6088bd4b91ab49d0a0ebd49905",
            "137698ecfe054a4ab02a1cd3a55a491c",
            "5427ffbc4e35402292d6eaf9c6f5a975",
            "676acf96cd1c4e1591ca44154c2b0bd3",
            "06605095957042e7a72415203754828c",
            "214b705a112f448bbe11acca1aa712b6",
            "4e48a352dcff4cf281089ce6eed59b9c",
            "1e25ccb37cde4b41b6e365d623245a90",
            "f1a5afce68044639a497e7aeb476b6ff",
            "5fe826df6ff34d96976a866aa4b6a437",
            "7b77c4e26ac747d19250fbad905c3797",
            "a756816dd4e64db396ed4ebb87efbf1e",
            "b79b8aeb0ae94ee6961a496305561fb7",
            "095266adb0194b028e001c6ccee8758e",
            "81162956e5a043d78fa6a3ad55545fbd"
          ]
        },
        "id": "187df154",
        "outputId": "dd8a5ef4-606a-43ad-d13e-1ce787b31d7e"
      },
      "source": [
        "#===============================================================================\n",
        "# Dataset and Model Selection\n",
        "#===============================================================================\n",
        "\n",
        "# if seq length is 128 batch size should be 32\n",
        "traindata = torch.utils.data.DataLoader(dataset= Hahackathon(\"data/train.csv\"\n",
        ", basenet= 'bert')\n",
        ", batch_size= 32, shuffle= True,  **kwargs)\n",
        "\n",
        "valdata = torch.utils.data.DataLoader(dataset= Hahackathon(\"data/dev.csv\"  \n",
        ", basenet= 'bert' )\n",
        ", batch_size= 128, shuffle= False, **kwargs)\n",
        "\n",
        "testdata = torch.utils.data.DataLoader(dataset= Hahackathon(\"data/gold-test-27446.csv\" \n",
        ", basenet= 'bert') \n",
        ", batch_size= 128, shuffle= False, **kwargs)\n",
        "\n",
        "# ic(\"Size of the dataset\",len(traindata.dataset))\n",
        "# model = multitask_fc('bert', n_outputs=2)  #experiment - bert with fc\n",
        "model = my_multitask_lstm_fc('bert', n_outputs=2) #experiment - bert with fc, lstm\n",
        "if torch.cuda.device_count() > 1:\n",
        "\tprint(\"Using {} GPUs! \\n\".format(torch.cuda.device_count()))\n",
        "\tmodel = torch.nn.DataParallel(model)\n",
        " \n",
        "model = model.to(device)\n"
      ],
      "id": "187df154",
      "execution_count": 8,
      "outputs": [
        {
          "output_type": "stream",
          "text": [
            "Sampled input from the file: data/train.csv\n",
            "   id  ... offense_rating\n",
            "0   1  ...            0.2\n",
            "1   2  ...            1.1\n",
            "2   3  ...            2.4\n",
            "3   4  ...            0.0\n",
            "4   5  ...            0.1\n",
            "\n",
            "[5 rows x 6 columns]\n",
            "Tokenizer: bert-base-uncased\n",
            "\n"
          ],
          "name": "stdout"
        },
        {
          "output_type": "display_data",
          "data": {
            "application/vnd.jupyter.widget-view+json": {
              "model_id": "1f1a2e4588074417aeda0ffec588f2b2",
              "version_minor": 0,
              "version_major": 2
            },
            "text/plain": [
              "HBox(children=(FloatProgress(value=0.0, description='Downloading', max=231508.0, style=ProgressStyle(descripti…"
            ]
          },
          "metadata": {
            "tags": []
          }
        },
        {
          "output_type": "stream",
          "text": [
            "\n"
          ],
          "name": "stdout"
        },
        {
          "output_type": "display_data",
          "data": {
            "application/vnd.jupyter.widget-view+json": {
              "model_id": "c6bf1ac0473d4038a8bbe4fa66ceb970",
              "version_minor": 0,
              "version_major": 2
            },
            "text/plain": [
              "HBox(children=(FloatProgress(value=0.0, description='Downloading', max=28.0, style=ProgressStyle(description_w…"
            ]
          },
          "metadata": {
            "tags": []
          }
        },
        {
          "output_type": "stream",
          "text": [
            "\n"
          ],
          "name": "stdout"
        },
        {
          "output_type": "display_data",
          "data": {
            "application/vnd.jupyter.widget-view+json": {
              "model_id": "8a592bcdb5724b139eb3e2f5f42f5580",
              "version_minor": 0,
              "version_major": 2
            },
            "text/plain": [
              "HBox(children=(FloatProgress(value=0.0, description='Downloading', max=466062.0, style=ProgressStyle(descripti…"
            ]
          },
          "metadata": {
            "tags": []
          }
        },
        {
          "output_type": "stream",
          "text": [
            "\n"
          ],
          "name": "stdout"
        },
        {
          "output_type": "stream",
          "text": [
            "/usr/local/lib/python3.7/dist-packages/torch/utils/data/dataloader.py:481: UserWarning: This DataLoader will create 32 worker processes in total. Our suggested max number of worker in current system is 2, which is smaller than what this DataLoader is going to create. Please be aware that excessive worker creation might get DataLoader running slow or even freeze, lower the worker number to avoid potential slowness/freeze if necessary.\n",
            "  cpuset_checked))\n"
          ],
          "name": "stderr"
        },
        {
          "output_type": "stream",
          "text": [
            "Sampled input from the file: data/dev.csv\n",
            "     id  ... offense_rating\n",
            "0  8001  ...           1.70\n",
            "1  8002  ...           0.00\n",
            "2  8003  ...           1.15\n",
            "3  8004  ...           3.75\n",
            "4  8005  ...           2.25\n",
            "\n",
            "[5 rows x 6 columns]\n",
            "Tokenizer: bert-base-uncased\n",
            "\n"
          ],
          "name": "stdout"
        },
        {
          "output_type": "stream",
          "text": [
            "/usr/local/lib/python3.7/dist-packages/torch/utils/data/dataloader.py:481: UserWarning: This DataLoader will create 32 worker processes in total. Our suggested max number of worker in current system is 2, which is smaller than what this DataLoader is going to create. Please be aware that excessive worker creation might get DataLoader running slow or even freeze, lower the worker number to avoid potential slowness/freeze if necessary.\n",
            "  cpuset_checked))\n"
          ],
          "name": "stderr"
        },
        {
          "output_type": "stream",
          "text": [
            "Sampled input from the file: data/gold-test-27446.csv\n",
            "     id  ... offense_rating\n",
            "0  9001  ...           0.90\n",
            "1  9002  ...           0.35\n",
            "2  9003  ...           0.10\n",
            "3  9004  ...           0.00\n",
            "4  9005  ...           0.35\n",
            "\n",
            "[5 rows x 6 columns]\n",
            "Tokenizer: bert-base-uncased\n",
            "\n",
            "Base architecture: bert-base-uncased\n"
          ],
          "name": "stdout"
        },
        {
          "output_type": "stream",
          "text": [
            "/usr/local/lib/python3.7/dist-packages/torch/utils/data/dataloader.py:481: UserWarning: This DataLoader will create 32 worker processes in total. Our suggested max number of worker in current system is 2, which is smaller than what this DataLoader is going to create. Please be aware that excessive worker creation might get DataLoader running slow or even freeze, lower the worker number to avoid potential slowness/freeze if necessary.\n",
            "  cpuset_checked))\n"
          ],
          "name": "stderr"
        },
        {
          "output_type": "display_data",
          "data": {
            "application/vnd.jupyter.widget-view+json": {
              "model_id": "e5a54d3527f34954a44f585acd9172ae",
              "version_minor": 0,
              "version_major": 2
            },
            "text/plain": [
              "HBox(children=(FloatProgress(value=0.0, description='Downloading', max=570.0, style=ProgressStyle(description_…"
            ]
          },
          "metadata": {
            "tags": []
          }
        },
        {
          "output_type": "stream",
          "text": [
            "\n"
          ],
          "name": "stdout"
        },
        {
          "output_type": "display_data",
          "data": {
            "application/vnd.jupyter.widget-view+json": {
              "model_id": "1e25ccb37cde4b41b6e365d623245a90",
              "version_minor": 0,
              "version_major": 2
            },
            "text/plain": [
              "HBox(children=(FloatProgress(value=0.0, description='Downloading', max=440473133.0, style=ProgressStyle(descri…"
            ]
          },
          "metadata": {
            "tags": []
          }
        },
        {
          "output_type": "stream",
          "text": [
            "\n"
          ],
          "name": "stdout"
        },
        {
          "output_type": "stream",
          "text": [
            "Some weights of the model checkpoint at bert-base-uncased were not used when initializing BertModel: ['cls.predictions.transform.dense.bias', 'cls.predictions.transform.dense.weight', 'cls.seq_relationship.weight', 'cls.predictions.transform.LayerNorm.weight', 'cls.predictions.bias', 'cls.predictions.decoder.weight', 'cls.predictions.transform.LayerNorm.bias', 'cls.seq_relationship.bias']\n",
            "- This IS expected if you are initializing BertModel from the checkpoint of a model trained on another task or with another architecture (e.g. initializing a BertForSequenceClassification model from a BertForPreTraining model).\n",
            "- This IS NOT expected if you are initializing BertModel from the checkpoint of a model that you expect to be exactly identical (initializing a BertForSequenceClassification model from a BertForSequenceClassification model).\n",
            "/usr/local/lib/python3.7/dist-packages/torch/nn/modules/rnn.py:65: UserWarning: dropout option adds dropout after all but last recurrent layer, so non-zero dropout expects num_layers greater than 1, but got dropout=0.2 and num_layers=1\n",
            "  \"num_layers={}\".format(dropout, num_layers))\n"
          ],
          "name": "stderr"
        }
      ]
    },
    {
      "cell_type": "code",
      "metadata": {
        "colab": {
          "base_uri": "https://localhost:8080/"
        },
        "id": "42e29a4a",
        "outputId": "f353fd89-6437-4f57-ae6f-33449240b0e0"
      },
      "source": [
        "\n",
        "from sklearn.metrics import f1_score, accuracy_score\n",
        "\n",
        "ce_criterion  = torch.nn.CrossEntropyLoss()\n",
        "ic(ce_criterion)\n",
        "\n",
        "def concat_output1(output, device):\n",
        "  temp = torch.tensor([]).to(device)\n",
        "\n",
        "  if output.shape[1] == 2:\n",
        "      # ic()\n",
        "      temp = torch.argmax(output[:, 0:2], dim=1).view(-1,1)\n",
        "      return temp\n",
        "\n",
        "  # temp = torch.argmax(output[:, 0:2], dim=1).view(-1,1)\n",
        "  # temp = torch.cat((temp, torch.argmax(output[:, 2:4], dim= 1).view(-1,1)), dim= 1)\n",
        "  # temp = torch.cat((temp, output[:, 4].view(-1,1)), dim= 1)\n",
        "  # temp = torch.cat((temp, output[:, 5].view(-1,1)), dim= 1)\n",
        "  return temp\n",
        "\n",
        "def loss_func1(output, target, device):\n",
        "\n",
        "  humor_id = (target[:, 0]==1)\n",
        "  target   = target.float()\n",
        "  \n",
        "  loss1 = ce_criterion(output[:, 0:2], target[:, 0].long())\n",
        "  loss=loss1\n",
        "  \n",
        "  # this block of generating temp is verified throughly\n",
        "  temp = concat_output1(output, device)\n",
        "  temp = temp.detach()\n",
        "  return loss, temp\n",
        "\n",
        "def train1(model, dataloader, optimizer, device):\n",
        "  model.train()\n",
        "  train_loss = AverageMeter()\n",
        "\n",
        "  for batch_id, batch_data in enumerate(dataloader):\n",
        "      data       = batch_data[0]\n",
        "      target     = batch_data[1].to(device)\n",
        "\n",
        "      input_id   = data[0].to(device).squeeze()\n",
        "      mask_id    = data[1].to(device).squeeze()\n",
        "      segment_id = data[2].to(device).squeeze()\n",
        "\n",
        "      output = model(input_id, mask_id, segment_id)\n",
        "      \n",
        "      loss, _ = loss_func1(output, target, device= device)\n",
        "      \n",
        "      optimizer.zero_grad()\n",
        "      loss.backward()\n",
        "      optimizer.step()\n",
        "      train_loss.update(loss.item(), target.shape[0])\n",
        "\n",
        "  return train_loss.avg\n",
        "\n",
        "def test1(model, dataloader, device):\n",
        "  model.eval()\n",
        "  test_loss = AverageMeter()\n",
        "  outputs   = torch.tensor([]).to(device)\n",
        "  targets   = torch.tensor([]).to(device)\n",
        "\n",
        "  with torch.no_grad():\n",
        "    for batch_id, batch_data in enumerate(dataloader):\n",
        "      data       = batch_data[0]\n",
        "      target     = batch_data[1].to(device)\n",
        "      \n",
        "      token_id   = data[0].to(device).squeeze()\n",
        "      mask_id    = data[1].to(device).squeeze()\n",
        "      segment_id = data[2].to(device).squeeze()\n",
        "\n",
        "      output     = model(token_id, mask_id, segment_id)\n",
        "\n",
        "      loss, temp = loss_func1(output, target, device= device)\n",
        "      outputs    = torch.cat((outputs, temp)  , 0)\n",
        "      targets    = torch.cat((targets, target), 0)\n",
        "\n",
        "      test_loss.update(loss.item(), target.shape[0])\n",
        "\n",
        "  outputs = outputs.cpu().numpy()\n",
        "  targets = targets.cpu().numpy()\n",
        "\n",
        "  humor_fscore          = f1_score          (targets[:, 0], outputs[:, 0])\n",
        "  # controversy_fscore    = f1_score          (targets[:, 1], outputs[:, 1])\n",
        "  humor_acc             = accuracy_score    (targets[:, 0], outputs[:, 0])\n",
        "  # controversy_acc       = accuracy_score    (targets[:, 1], outputs[:, 1])\n",
        "  # humor_rating_rmse     = mean_squared_error(targets[:, 2], outputs[:, 2], squared= False)\n",
        "  # offensive_rating_rmse = mean_squared_error(targets[:, 3], outputs[:, 3], squared= False)\n",
        "\n",
        "  return test_loss.avg, [humor_fscore, humor_acc] #, controversy_fscore, controversy_acc, humor_rating_rmse, offensive_rating_rmse]\n",
        "\n",
        "def get_result_on_evaldata1(model, dataloader, filename, device):\n",
        "  model.eval()\n",
        "  outputs  = torch.tensor([]).to(device)\n",
        "  text_ids = torch.tensor([]).to(device)\n",
        "\n",
        "  with torch.no_grad():\n",
        "    for batch_id, batch_data in enumerate(dataloader):\n",
        "      data = batch_data[0]\n",
        "      text_id    = batch_data[1].to(device)\n",
        "\n",
        "      token_id   = data[0].to(device).squeeze()\n",
        "      mask_id    = data[1].to(device).squeeze()\n",
        "      segment_id = data[2].to(device).squeeze()\n",
        "\n",
        "      output = model(token_id, mask_id, segment_id)\n",
        "\n",
        "      temp     = concat_output1(output, device)\n",
        "      outputs  = torch.cat((outputs, temp), 0)\n",
        "      text_ids = torch.cat((text_ids, text_id), 0)\n",
        "\n",
        "  ic(outputs.shape, text_ids.shape)\n",
        "  outputs  = outputs.cpu().numpy()\n",
        "  text_ids = text_ids.cpu().numpy()\n",
        "\n",
        "  results = np.hstack((text_ids, outputs))\n",
        "  df      = pd.DataFrame(data    = results,  \n",
        "                          columns = ['id', 'is_humor', 'humor_controversy', 'humor_rating', 'offense_rating']) \n",
        "\n",
        "  df['id']                = (df['id']).astype('int')\n",
        "  df['is_humor']          = (df['is_humor']).astype('int')\n",
        "  # df['humor_controversy'] = (df['humor_controversy']).astype('int')\n",
        "  df = df[['id', 'is_humor']]   #, 'humor_rating', 'humor_controversy', 'offense_rating']]\n",
        "\n",
        "  df.to_csv(filename, index = False)\n",
        "  ic(\"Result file is saved to {}\".format(filename))"
      ],
      "id": "42e29a4a",
      "execution_count": null,
      "outputs": [
        {
          "output_type": "stream",
          "text": [
            "ic| ce_criterion: CrossEntropyLoss()\n"
          ],
          "name": "stderr"
        }
      ]
    },
    {
      "cell_type": "code",
      "metadata": {
        "id": "ec3589bd"
      },
      "source": [
        "#===============================================================================\n",
        "# Start Training , Configure params\n",
        "#===============================================================================\n",
        "learning_rate=0.00002 #0.01 to 0.00002\n",
        "start_epoch = 1\n",
        "epochs = 10 #10 to 30\n",
        "train_loss_arr = []\n",
        "val_loss_arr = []\n",
        "metrics_arr = [] #f1 , accuracy\n",
        "\n",
        "if not test_model:\n",
        "\n",
        "  ic(\"Training starts\")\n",
        "  optimizer = torch.optim.Adam(model.parameters(), lr= learning_rate)\n",
        "\n",
        "  for ep in range(start_epoch, start_epoch+epochs):\n",
        "      train_loss = train1(model, traindata, optimizer, device)\n",
        "      val_loss, metrics = test1(model, valdata, device)\n",
        "\n",
        "      ic(train_loss)\n",
        "      train_loss_arr.append(train_loss)\n",
        "      val_loss_arr.append(val_loss)\n",
        "      metrics_arr.append(metrics)\n",
        "\n",
        "  #===============================================================================\n",
        "  # Configure Run Iteration and Model Save\n",
        "  #===============================================================================\n",
        "  run_iter = 6 #iterations you ran the model\n",
        "  save_dir = os.path.join('model_weights', 'run_{}'.format(run_iter))\n",
        "  create_folder(save_dir)\n",
        "  save_path = os.path.join(save_dir, \"epoch_{}\".format(epochs) + \".pth\")\n",
        "  save_model(model, optimizer, opt= None, epoch= epochs, save_file= save_path)\n",
        "  model = model.to(device)\n",
        "\n",
        "  #===============================================================================\n",
        "  # Plot graphs\n",
        "  #=============================================================================== \n",
        "  print('Final train loss: ', train_loss_arr[-1])\n",
        "  print(' val loss: ', val_loss_arr[-1])\n",
        "  print('val F1 score: ', metrics_arr[-1][0])\n",
        "  print('val Accuracy: ', metrics_arr[-1][1])\n",
        "\n",
        "  import plotly.graph_objects as go\n",
        "\n",
        "  x_axis = list(range(1, len(train_loss_arr)+1)) #epochs\n",
        "  y_axis = list(train_loss_arr)\n",
        "\n",
        "  fig = go.Figure(data = go.Scatter(x= x_axis, y= y_axis))\n",
        "  fig.update_layout(title='train loss',\n",
        "                    xaxis_title='epochs',\n",
        "                    yaxis_title='loss')\n",
        "  fig.show(renderer=\"colab\")\n",
        "\n",
        "  y2_axis = np.array(metrics_arr)\n",
        "  fig2 = go.Figure()\n",
        "  fig2.add_trace(go.Scatter(x= x_axis, y= y2_axis[:,0],\n",
        "                      mode='lines',\n",
        "                      name='f1-score'))\n",
        "  fig2.add_trace(go.Scatter(x= x_axis, y= y2_axis[:,1],\n",
        "                      mode='lines+markers',\n",
        "                      name='accuracy'))\n",
        "  fig2.update_layout(title='performance',\n",
        "                    xaxis_title='epochs',\n",
        "                    yaxis_title='metrics')\n",
        "  fig2.show(renderer=\"colab\")\n"
      ],
      "id": "ec3589bd",
      "execution_count": null,
      "outputs": []
    },
    {
      "cell_type": "code",
      "metadata": {
        "id": "8J3bRAZZC1u3"
      },
      "source": [
        "#===============================================================================\n",
        "# Generate prediction file on testdata\n",
        "#===============================================================================\n",
        "ic(\"Generating prediction file for post-evaluation phase\")\n",
        "# filename   = \"results_publictest_2.csv\" \n",
        "save_path_test = os.path.join(save_dir, \"epoch_{}\".format(epochs) + \"results_publictest.csv\")\n",
        "# model = model.to(device)\n",
        "get_result_on_evaldata1(model, testdata, save_path_test, device= device)"
      ],
      "id": "8J3bRAZZC1u3",
      "execution_count": null,
      "outputs": []
    },
    {
      "cell_type": "code",
      "metadata": {
        "colab": {
          "base_uri": "https://localhost:8080/"
        },
        "id": "nCTks0JG44Sw",
        "outputId": "35f8b155-6508-4f0f-94bb-54494a80f994"
      },
      "source": [
        "#===============================================================================\n",
        "# Load a saved movel\n",
        "#===============================================================================\n",
        "# path = \"model_weights/run_4/epoch_10.pth\"\n",
        "# !ls model_weights/run_4/\n",
        "# !pwd\n",
        "model, start_epoch = load_weights(model, path)\n",
        "ic(start_epoch)\n",
        "# model = model.to(device)"
      ],
      "id": "nCTks0JG44Sw",
      "execution_count": null,
      "outputs": [
        {
          "output_type": "stream",
          "text": [
            "epoch_10.pth\n",
            "/content/drive/My Drive/Colab Notebooks/Spring 21/NLP/Humour-Detection-2021\n"
          ],
          "name": "stdout"
        }
      ]
    },
    {
      "cell_type": "code",
      "metadata": {
        "id": "v2PibuK55tHw"
      },
      "source": [
        "#===============================================================================\n",
        "# Metrics on test data\n",
        "#===============================================================================\n",
        "ic(device)\n",
        "filename   = \"results_publictest_itr_4.csv\"\n",
        "test_loss, test_metrics = test1(model, testdata, device)\n",
        "print(' gold test loss: ', test_loss)\n",
        "print('gold test F1 score: ', test_metrics[0])\n",
        "print('gold test Accuracy: ', test_metrics[1])"
      ],
      "id": "v2PibuK55tHw",
      "execution_count": null,
      "outputs": []
    }
  ]
}